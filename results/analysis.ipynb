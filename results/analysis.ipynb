{
 "cells": [
  {
   "cell_type": "markdown",
   "id": "fe7c1198",
   "metadata": {},
   "source": [
    "Notebook com os resultados"
   ]
  }
 ],
 "metadata": {
  "language_info": {
   "name": "python"
  }
 },
 "nbformat": 4,
 "nbformat_minor": 5
}
